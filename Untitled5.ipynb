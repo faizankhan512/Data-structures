{
 "cells": [
  {
   "cell_type": "raw",
   "id": "aa6987b5-dfc4-4f5c-addf-13d03c7873e1",
   "metadata": {},
   "source": [
    "                        DATA TYPES AND STRUCTURE QUESTIONS"
   ]
  },
  {
   "cell_type": "raw",
   "id": "6f607727-0b1b-4229-8af2-cd5b7ab62a53",
   "metadata": {},
   "source": [
    "1. WHAT ARE DATA STRUCTURES AND WHY ARE THEY IMPORTANT?"
   ]
  },
  {
   "cell_type": "raw",
   "id": "9071205f-d40d-40d4-86b3-67f5537d7c72",
   "metadata": {},
   "source": [
    "ANS-1 Data structures are ways of organizing and storing data in a computer so it can be used efficiently.They are crucial for writing effective code,as         they enable faster processing , easier understanding,and efficient use of memory."
   ]
  },
  {
   "cell_type": "raw",
   "id": "78fa9344-fa56-42a2-8e9c-34452dbfffa5",
   "metadata": {},
   "source": [
    "2. EXPLAIN THE DIFFERENCE BETWEEN MUTABLE AND IMMUTABLE DATA TYPES WITH EXAMPLE?"
   ]
  },
  {
   "cell_type": "raw",
   "id": "bfab89eb-4fe7-4ccc-88cb-a3200920c942",
   "metadata": {},
   "source": [
    "ANS-2 Mutable data types can be changed after they are created (eg. lists,dictionaries).\n",
    "      Immutable data types cannot be changed after they are created(eg. numbers,strings,tuples)/"
   ]
  },
  {
   "cell_type": "raw",
   "id": "95811ac0-b299-4bad-9dad-e0082ee6c807",
   "metadata": {},
   "source": [
    "3. WHAT ARE THE MAIN DIFFERENCE BETWEEN LISTS AND TUPLES IN PYTHON?"
   ]
  },
  {
   "cell_type": "raw",
   "id": "7e77c879-8cd6-4fcd-870c-9faaa07ff048",
   "metadata": {},
   "source": [
    "ANS-3 HERE'S A TABLE SUMMARIZING THE MAIN DIFFERENCE-\n",
    "      FEATURES       LIST                TUPLE\n",
    "      Mutablility    Mutable             Immutable\n",
    "      Syntax         []                    ()\n",
    "      Performance    Slightly slower     Faster\n",
    "      Memory usage   More memory         less memory\n",
    "      Use cases      Modifiable          Fixed\n",
    "      \n",
    "       "
   ]
  },
  {
   "cell_type": "raw",
   "id": "d701b0cf-7260-46fd-aebf-2402a9941b3d",
   "metadata": {},
   "source": [
    "4. DESCRIBE HOW DICTIONARIES STORE DATA?"
   ]
  },
  {
   "cell_type": "raw",
   "id": "797d9ec7-7122-4351-88b6-d39dd0b8522e",
   "metadata": {},
   "source": [
    "ANS-4 Dictionaries store data in Key-Value pairs.Think of it like a real dictionary:you look up a word (the key) to find its defination (the value).          This allows for quick and easy retrieval of information."
   ]
  },
  {
   "cell_type": "raw",
   "id": "3d636f2c-591a-4a0c-bb55-61e798a3a00a",
   "metadata": {},
   "source": [
    "5. WHY MIGHT YOU USE A SET INSTEAD OF LIST IN PYTHON ?"
   ]
  },
  {
   "cell_type": "raw",
   "id": "72610b67-6aea-4981-bee9-747a20b729a1",
   "metadata": {},
   "source": [
    "ANS-5 Use a set instead of a list in Python when you need to:\n",
    "      *STORES ONLY UNIQUE ELEMENTS: Sets automatically discard duplicates.\n",
    "      *EFFICIENTLY CHECK FOR MEMBERSHIP: Sets are optimized for fast lookups."
   ]
  },
  {
   "cell_type": "raw",
   "id": "5029de22-d335-4428-8779-e5a874b69fbd",
   "metadata": {},
   "source": [
    "6. WHAT IS A STRING IN PYTHON, AND HOW IS IT DIFFERENT FROM A LIST?"
   ]
  },
  {
   "cell_type": "raw",
   "id": "b4eaba0b-e319-4e3c-bbc8-0f2e0937137f",
   "metadata": {},
   "source": [
    "ANS-6 In Python, a string is like a sentence - it's a sequence of characters. A list is more like a container that can hold various items, which can be \n",
    "      numbers,words,or even other lists!\n",
    "      Here's the key difference:\n",
    "      *STRINGS ARE IMMUTABLE\n",
    "      *LISTS ARE MUTABLE\n",
    "      Think of it this way: a string is like a written sentence that you can't alter, while a list is like a shopping list where you can easily add or\n",
    "      remove items."
   ]
  },
  {
   "cell_type": "raw",
   "id": "a5c25941-48f3-46be-86f4-7a34ea9043b4",
   "metadata": {},
   "source": [
    "7. HOW DO TUPLES ENSURE DATA INTEGRITY IN PYTHON?"
   ]
  },
  {
   "cell_type": "raw",
   "id": "501e47c9-59bc-4ea3-bbb1-0ba284100b4b",
   "metadata": {},
   "source": [
    "ANS-7 Tuples ensure data integrity because they are immutable. Once a tuple is created,its contents cannot be changed,preventing accidental modification\n",
    "      of the data it holds."
   ]
  },
  {
   "cell_type": "raw",
   "id": "f4d0f416-e69c-43ac-875a-137b9d72aefa",
   "metadata": {},
   "source": [
    "8. WHAT IS A HASH TABLE,AND HOW DOES IT RELATE TO DICTIONARIES IN PYTHON?"
   ]
  },
  {
   "cell_type": "raw",
   "id": "455c7499-1eae-460d-991b-9ec1e2700c13",
   "metadata": {},
   "source": [
    "ANS-8 A hash table is like a super-organized filing cabinet.It uses a special function (a \"hash function\") to quickly figure out where to store and find\n",
    "      things.\n",
    "      Python dictionaries are built using hash tables.This is why they're so fast at looking up values when you know the key.\n",
    "      Think of it this way: the dictionary is the filing cabinet,and the hash table is the clever system that keeps everything in the right place so you\n",
    "      can find it in a snap."
   ]
  },
  {
   "cell_type": "raw",
   "id": "dff16b7a-ceed-4f5b-b460-4aa7943dd4de",
   "metadata": {},
   "source": [
    "9. CAN LISTS CONTAIN DIFFERENT DATA TYPES IN PYTHON?"
   ]
  },
  {
   "cell_type": "raw",
   "id": "1a58103b-fa86-401a-85e6-e7c519332856",
   "metadata": {},
   "source": [
    "ANS-9 YES, a Python list can contain different data types (eg. numbers,strings,booleans,even other lists) all within the same list."
   ]
  },
  {
   "cell_type": "raw",
   "id": "fe67219d-2f84-4f4e-a750-0c52a249697d",
   "metadata": {},
   "source": [
    "10. EXPLAIN WHY STRINGS ARE IMMUTABLE IN PYTHON?"
   ]
  },
  {
   "cell_type": "raw",
   "id": "f1c2d05a-4f77-47bd-af3b-443503fcc76b",
   "metadata": {},
   "source": [
    "ANS-10 Strings in Python are immutable because it simplifies memory management and allows for optimizations. Once a string is created, it can be safely \n",
    "       shared and reused without worrying about it being changed unexpectedly. Any operation that seems to modify a string actually creates a brand new        string in memory."
   ]
  },
  {
   "cell_type": "raw",
   "id": "d02cef0f-68bb-45f1-9f55-ba6750592f71",
   "metadata": {},
   "source": [
    "11. WHAT ADVANTAGES DO DICTIONARIES OFFER OVER LISTS FOR CERTAIN TASKS?"
   ]
  },
  {
   "cell_type": "raw",
   "id": "227ee968-215b-4e25-942f-7caa23965c69",
   "metadata": {},
   "source": [
    "ANS-11 Dictionaries are much faster than lists for finding things when you know what you're looking for (the \"key\").Imagine looking up a word in a             dictonary versus flipping through a whole list."
   ]
  },
  {
   "cell_type": "raw",
   "id": "ec1afcd7-e18b-40d1-99f1-98624b3ae5fe",
   "metadata": {},
   "source": [
    "12. DESCRIBE A SCENARIO WHERE USING A TUPLE WOULD BE PREFERABLE OVER A LIST?"
   ]
  },
  {
   "cell_type": "raw",
   "id": "7b5a4c9b-b331-4cc0-824e-8f53041573b6",
   "metadata": {},
   "source": [
    "ANS-12 A good scenario for a tuple is representing a point in space: point= (x_coordinate,y_coordinate). Since a point's coordinates are fixed,a               tuple's immutability is perfect.You wouldn't want to accidentally change the x-coordinate of a point without intending to."
   ]
  },
  {
   "cell_type": "raw",
   "id": "78d008a0-9258-4ed5-ab49-2032c9f168b9",
   "metadata": {},
   "source": [
    "13. HOW DO SETS HANDLE DUPLICATE VALUES IN PYTHON?"
   ]
  },
  {
   "cell_type": "raw",
   "id": "140827e8-f4fa-4b1f-87b4-22f1ba86368b",
   "metadata": {},
   "source": [
    "ANS-13 Sets in Python automatically discard duplicate values. If you try to add a value that's already in the set, it simply won't be added again."
   ]
  },
  {
   "cell_type": "raw",
   "id": "7cfb7bf3-8326-4901-af75-933a5089c281",
   "metadata": {},
   "source": [
    "14. HOW DOES THE \"IN\" KEYWORD WORK DIFFERENTLY FOR LISTS AND DICTIONARIES?"
   ]
  },
  {
   "cell_type": "raw",
   "id": "854e1326-a84d-42be-8335-7e543b6c1d6f",
   "metadata": {},
   "source": [
    "ANS-14 LIST: when you use \"in\" with a list,Python has to go through the list one by one, checking each item until it finds a match.This can take a                   while if the list is very long.\n",
    "       DICTIONARY: Dictionaries are like those super organized filing cabinet we talked about earlier.They use a special trick (hashing) to instantly                      know where to look for a key.So, \"in\" for a dictionary is incredibly fast, no matter how big the dictionary gets."
   ]
  },
  {
   "cell_type": "raw",
   "id": "bad3983c-884d-4393-bed2-93097e470420",
   "metadata": {},
   "source": [
    "15. CAN YOU MODIFY THE ELEMENTS OF A TUPLE? EXPLAIN WHY OR WHY NOT."
   ]
  },
  {
   "cell_type": "raw",
   "id": "52d9e231-26e5-48f6-9daa-3a325a791aec",
   "metadata": {},
   "source": [
    "ANS-15 NO, you cannot modify the elements of a tuple in Python. Tuples are immutable, meaning once they are created , their contents cannot be changed.\n",
    "       Attempting to modify a tuple's elements will result in an error. This immutability is a deliberate design choice,often used to represent fixed          collections of data, like coordinates or database records, where preventing accidental changes is crucial for data integrity."
   ]
  },
  {
   "cell_type": "raw",
   "id": "0979fc0f-44e1-4ca9-b00f-ff7ffc7bcccc",
   "metadata": {},
   "source": [
    "16. WHAT IS A NESTED DICTIONARY,AND GIVE AN EXAMPLE OF ITS USE CASE?"
   ]
  },
  {
   "cell_type": "raw",
   "id": "129fc3ca-5918-4749-be1d-c8a0bc2eb509",
   "metadata": {},
   "source": [
    "ANS-16 A nested dictionary is a dictionary where values are themselves dictionaries.\n",
    "       use case:\n",
    "       grades = {\"Alice\": {\"math\": 95,\"science\": 88},\"bob\": {\"math\": 76,\"science\": 92}}\n",
    "       here, the outer keys are student names, and the inner dictionaries hold their grades for different subjects."
   ]
  },
  {
   "cell_type": "raw",
   "id": "9e1ad6cf-334d-4c40-9ed2-9d021048c8c7",
   "metadata": {},
   "source": [
    "17. DESCRIBE THE TIME COMPLEXITY OF ACCESSING ELEMENTS IN A DICTIONARY?"
   ]
  },
  {
   "cell_type": "raw",
   "id": "0f608681-6c74-4046-acac-78f243cbc89f",
   "metadata": {},
   "source": [
    "ANS-17 Accessing elements in a dictionary (using the key) has an average time complexity of O(1),meaning it's incredibly fast and doesn't depend much          on the dictionary's size.In the worst case(rare collisions in the hash table),it can be O(n),but this is uncommon."
   ]
  },
  {
   "cell_type": "raw",
   "id": "54ee8ae8-e140-4ded-b006-5363f306701a",
   "metadata": {},
   "source": [
    "18. IN WHAT SITUATIONS ARE LISTS PREFFERED OVER DICTIONARIES?"
   ]
  },
  {
   "cell_type": "raw",
   "id": "35a030b7-8eba-453d-b8b4-aac946ac2d7b",
   "metadata": {},
   "source": [
    "ANS-18 Lists are preffered when order matters and you need to access elements by their position(index)."
   ]
  },
  {
   "cell_type": "raw",
   "id": "eb6c7576-e86d-467e-80c1-f676dc8e727b",
   "metadata": {},
   "source": [
    "19. WHY ARE DICTIONARIES CONSIDERED UNORDERED, AND HOW DOES THAT AFFECT DATA RETRIEVAL?"
   ]
  },
  {
   "cell_type": "raw",
   "id": "51db4df6-46ce-4c60-b4b9-26d4397eea5b",
   "metadata": {},
   "source": [
    "ANS-19 Dictionaries are considered unordered because the don't store data in specific sequence.This means you can't rely on the order in which items           were added to the dictionary.\n",
    "       How it effects data retrieval:\n",
    "       *NO INDEXING - You can't access items by their position(like in a list).\n",
    "       *KEY-BASED ACCESS - You retrieve data using its unique key,not its order.\n",
    "       *UNOREDICTABLE ITERATION - When you loop through a dictionary, the order of items might vary."
   ]
  },
  {
   "cell_type": "raw",
   "id": "932f9157-ab99-469d-b05a-f7fe8eea5b02",
   "metadata": {},
   "source": [
    "20. EXPLAIN THE DIFFERENCE BETWEEN A LIST AND A DICTIONARY IN TERMS OF DATA RETRIEVAL."
   ]
  },
  {
   "cell_type": "raw",
   "id": "3d7505f1-7ead-4015-abf7-11120fb0138f",
   "metadata": {},
   "source": [
    "ANS-20 Lists are ordered and accessed by index(position).Dictionaries are unordered and accessed by keys (labels)."
   ]
  },
  {
   "cell_type": "raw",
   "id": "dd12836c-8f05-4d6e-80c1-a755eb0e6c90",
   "metadata": {},
   "source": [
    "                PRACTICAL QUESTIONS "
   ]
  },
  {
   "cell_type": "raw",
   "id": "24c99777-c182-4b7d-964c-359667761a0f",
   "metadata": {},
   "source": [
    "1. WRITE A CODE TO CREATE A STRING WITH YOUR NAME AND PRINT IT."
   ]
  },
  {
   "cell_type": "code",
   "execution_count": 1,
   "id": "84b59d46-2872-42f9-90fd-8592e8276639",
   "metadata": {},
   "outputs": [
    {
     "name": "stdout",
     "output_type": "stream",
     "text": [
      "Faizan shah khan\n"
     ]
    }
   ],
   "source": [
    "#ANS-1 \n",
    "my_name = \"Faizan shah khan\"\n",
    "print(my_name)"
   ]
  },
  {
   "cell_type": "raw",
   "id": "40c3b22f-03e2-46e4-afac-50f1fc127f77",
   "metadata": {},
   "source": [
    "2. WRITE A CODE TO FIND THE LENGTH OF THE STRING \"HELLO WORLD\"."
   ]
  },
  {
   "cell_type": "code",
   "execution_count": 3,
   "id": "c94bc071-8697-46f2-9122-7712956f482f",
   "metadata": {},
   "outputs": [
    {
     "data": {
      "text/plain": [
       "11"
      ]
     },
     "execution_count": 3,
     "metadata": {},
     "output_type": "execute_result"
    }
   ],
   "source": [
    "#ANS-2\n",
    "a = \"Hello World\"\n",
    "len(a)"
   ]
  },
  {
   "cell_type": "raw",
   "id": "a4f5f9f4-adba-449a-8cec-8c98bc800e90",
   "metadata": {},
   "source": [
    "3. WRITE A CODE TO SLICE THE FIRST 3 CHARACTERS FROM THR STRING \"PYTHON PROGRAMMING\"."
   ]
  },
  {
   "cell_type": "code",
   "execution_count": 5,
   "id": "572ccdb9-8b32-4cb3-a568-ddbe19a3c7d5",
   "metadata": {},
   "outputs": [
    {
     "name": "stdout",
     "output_type": "stream",
     "text": [
      "Pyt\n"
     ]
    }
   ],
   "source": [
    "#ANS-3\n",
    "my_string = \"Python Programming\"\n",
    "sliced_string = my_string[:3]\n",
    "print(sliced_string)"
   ]
  },
  {
   "cell_type": "code",
   "execution_count": 15,
   "id": "a4be944a-2f9d-4e19-83e6-e36f9184d688",
   "metadata": {},
   "outputs": [
    {
     "data": {
      "text/plain": [
       "'HELLO'"
      ]
     },
     "execution_count": 15,
     "metadata": {},
     "output_type": "execute_result"
    }
   ],
   "source": [
    "#ANS-4\n",
    "a = \"hello\"\n",
    "a.upper()\n",
    "\n"
   ]
  },
  {
   "cell_type": "code",
   "execution_count": 33,
   "id": "a587e3da-2728-43ab-a442-17a731906b76",
   "metadata": {},
   "outputs": [
    {
     "name": "stdout",
     "output_type": "stream",
     "text": [
      "I like orange\n"
     ]
    }
   ],
   "source": [
    "#ANS-5\n",
    "my_string = \"I like Apple\"\n",
    "new_string = my_string.replace(\"Apple\", \"orange\")\n",
    "print(new_string)\n"
   ]
  },
  {
   "cell_type": "code",
   "execution_count": 19,
   "id": "318c0ffc-7b01-4e86-b712-a466c4a679b1",
   "metadata": {},
   "outputs": [
    {
     "data": {
      "text/plain": [
       "[1, 2, 3, 4, 5]"
      ]
     },
     "execution_count": 19,
     "metadata": {},
     "output_type": "execute_result"
    }
   ],
   "source": [
    "#ANS-6\n",
    "my_list = [1,2,3,4,5]\n",
    "my_list"
   ]
  },
  {
   "cell_type": "code",
   "execution_count": 37,
   "id": "cf9b1c3c-b040-4fcf-aeca-4f42f2db7979",
   "metadata": {},
   "outputs": [
    {
     "data": {
      "text/plain": [
       "[1, 2, 3, 4, 10]"
      ]
     },
     "execution_count": 37,
     "metadata": {},
     "output_type": "execute_result"
    }
   ],
   "source": [
    "#ANS-7\n",
    "list1 = [1,2,3,4]\n",
    "list1.append(10)\n",
    "list1\n"
   ]
  },
  {
   "cell_type": "code",
   "execution_count": 39,
   "id": "71d2ac70-58f2-4a30-8bd0-3a120f159a08",
   "metadata": {},
   "outputs": [
    {
     "data": {
      "text/plain": [
       "[1, 2, 4, 5]"
      ]
     },
     "execution_count": 39,
     "metadata": {},
     "output_type": "execute_result"
    }
   ],
   "source": [
    "#ANS-8\n",
    "list2 = [1,2,3,4,5]\n",
    "list2.remove(3)\n",
    "list2"
   ]
  },
  {
   "cell_type": "code",
   "execution_count": 41,
   "id": "2e8314cf-f06a-4ddf-a573-37c29974b387",
   "metadata": {},
   "outputs": [
    {
     "data": {
      "text/plain": [
       "'c'"
      ]
     },
     "execution_count": 41,
     "metadata": {},
     "output_type": "execute_result"
    }
   ],
   "source": [
    "#ANS-9\n",
    "list3 = [\"a\",\"b\",\"c\",\"d\"]\n",
    "list3[2]"
   ]
  },
  {
   "cell_type": "code",
   "execution_count": 45,
   "id": "0ba5bfb3-7e8d-4102-b1b9-cb8639fea853",
   "metadata": {},
   "outputs": [
    {
     "data": {
      "text/plain": [
       "[50, 40, 30, 20, 10]"
      ]
     },
     "execution_count": 45,
     "metadata": {},
     "output_type": "execute_result"
    }
   ],
   "source": [
    "#ANS-10\n",
    "my_list = [10,20,30,40,50]\n",
    "reversed_list = my_list[::-1]\n",
    "reversed_list"
   ]
  },
  {
   "cell_type": "code",
   "execution_count": 47,
   "id": "5b89f674-8040-4895-889b-15754ce91d90",
   "metadata": {},
   "outputs": [
    {
     "name": "stdout",
     "output_type": "stream",
     "text": [
      "(100, 200, 300)\n"
     ]
    }
   ],
   "source": [
    "#ANS-11\n",
    "my_tuple = (100,200,300)\n",
    "print(my_tuple)"
   ]
  },
  {
   "cell_type": "code",
   "execution_count": 49,
   "id": "525fe97d-1d1f-4122-a903-73646ccf3007",
   "metadata": {},
   "outputs": [
    {
     "name": "stdout",
     "output_type": "stream",
     "text": [
      "blue\n"
     ]
    }
   ],
   "source": [
    "#ANS-12\n",
    "my_tuple = (\"red\",\"green\",\"blue\",\"yellow\")\n",
    "second_to_last = my_tuple[-2]\n",
    "print(second_to_last)"
   ]
  },
  {
   "cell_type": "code",
   "execution_count": 57,
   "id": "647c7fec-1595-40cf-aac3-f1fa54a41f19",
   "metadata": {},
   "outputs": [
    {
     "data": {
      "text/plain": [
       "5"
      ]
     },
     "execution_count": 57,
     "metadata": {},
     "output_type": "execute_result"
    }
   ],
   "source": [
    "#ANS-13\n",
    "tuple1 = (10,20,5,15)\n",
    "min(tuple1)"
   ]
  },
  {
   "cell_type": "code",
   "execution_count": 59,
   "id": "73dff8c5-ab8a-4bfa-9a9d-573694cf1951",
   "metadata": {},
   "outputs": [
    {
     "data": {
      "text/plain": [
       "'cat'"
      ]
     },
     "execution_count": 59,
     "metadata": {},
     "output_type": "execute_result"
    }
   ],
   "source": [
    "#ANS-14\n",
    "tuple1 = (\"dog\",\"cat\",\"rabbit\")\n",
    "tuple1[1]"
   ]
  },
  {
   "cell_type": "code",
   "execution_count": 61,
   "id": "99d9bd29-ae67-4b17-9b31-9018616b791a",
   "metadata": {},
   "outputs": [
    {
     "data": {
      "text/plain": [
       "True"
      ]
     },
     "execution_count": 61,
     "metadata": {},
     "output_type": "execute_result"
    }
   ],
   "source": [
    "#ANS-15\n",
    "tuple_bag = (\"mango\",\"apple\",\"kiwi\")\n",
    "\"kiwi\" in tuple_bag"
   ]
  },
  {
   "cell_type": "code",
   "execution_count": 63,
   "id": "1fc4335f-7a4e-4645-aff4-d2c48b7e2916",
   "metadata": {},
   "outputs": [
    {
     "name": "stdout",
     "output_type": "stream",
     "text": [
      "{'b', 'a', 'c'}\n"
     ]
    }
   ],
   "source": [
    "#ANS-16\n",
    "set_a = {\"a\",\"b\",\"c\"}\n",
    "print(set_a)"
   ]
  },
  {
   "cell_type": "code",
   "execution_count": 71,
   "id": "85edd872-7b5d-406c-b783-b771fcbbacd0",
   "metadata": {},
   "outputs": [
    {
     "data": {
      "text/plain": [
       "set()"
      ]
     },
     "execution_count": 71,
     "metadata": {},
     "output_type": "execute_result"
    }
   ],
   "source": [
    "#ANS-17\n",
    "s = {1,2,3,4,5}\n",
    "s.clear()\n",
    "s"
   ]
  },
  {
   "cell_type": "code",
   "execution_count": 73,
   "id": "2ed31450-a68a-4ae1-a4a1-391181420cb2",
   "metadata": {},
   "outputs": [
    {
     "data": {
      "text/plain": [
       "{1, 2, 3}"
      ]
     },
     "execution_count": 73,
     "metadata": {},
     "output_type": "execute_result"
    }
   ],
   "source": [
    "#ANS-18\n",
    "s1 = {1,2,3,4}\n",
    "s1.remove(4)\n",
    "s1"
   ]
  },
  {
   "cell_type": "code",
   "execution_count": 75,
   "id": "58299ca7-cf36-4b25-936e-a7b8eeaae0e3",
   "metadata": {},
   "outputs": [
    {
     "name": "stdout",
     "output_type": "stream",
     "text": [
      "{1, 2, 3, 4, 5}\n"
     ]
    }
   ],
   "source": [
    "#ANS-19\n",
    "set1 = {1,2,3}\n",
    "set2 = {3,4,5}\n",
    "union_set = set1 | set2\n",
    "print(union_set)"
   ]
  },
  {
   "cell_type": "code",
   "execution_count": 77,
   "id": "bead8e83-74e3-431d-aed4-2fce4069d311",
   "metadata": {},
   "outputs": [
    {
     "name": "stdout",
     "output_type": "stream",
     "text": [
      "{2, 3}\n"
     ]
    }
   ],
   "source": [
    "#ANS-20\n",
    "seta = {1,2,3}\n",
    "setb = {2,3,4}\n",
    "intersection_set = seta & setb\n",
    "print(intersection_set)"
   ]
  },
  {
   "cell_type": "code",
   "execution_count": 83,
   "id": "30d935ca-bb94-4ec5-9930-4ae1d18f9d67",
   "metadata": {},
   "outputs": [
    {
     "name": "stdout",
     "output_type": "stream",
     "text": [
      "{'name': 'faizan', 'age': 20, 'city': 'lucknow'}\n"
     ]
    },
    {
     "data": {
      "text/plain": [
       "dict_keys(['name', 'age', 'city'])"
      ]
     },
     "execution_count": 83,
     "metadata": {},
     "output_type": "execute_result"
    }
   ],
   "source": [
    "#ANS-21\n",
    "dict_1 = {\"name\":\"faizan\",\"age\":20,\"city\":\"lucknow\"}\n",
    "print(dict_1)\n",
    "dict_1.keys()"
   ]
  },
  {
   "cell_type": "code",
   "execution_count": 85,
   "id": "4854c56c-b987-430b-8df0-6717c3fe9476",
   "metadata": {},
   "outputs": [
    {
     "name": "stdout",
     "output_type": "stream",
     "text": [
      "{'name': 'john', 'age': 25, 'country': 'USA'}\n"
     ]
    }
   ],
   "source": [
    "#ANS-22\n",
    "my_dict = {\"name\":\"john\",\"age\":25}\n",
    "my_dict[\"country\"] = \"USA\"\n",
    "print(my_dict)"
   ]
  },
  {
   "cell_type": "code",
   "execution_count": 97,
   "id": "0c498251-a7d4-44ca-9124-2bbe8b67110e",
   "metadata": {},
   "outputs": [
    {
     "data": {
      "text/plain": [
       "'Alice'"
      ]
     },
     "execution_count": 97,
     "metadata": {},
     "output_type": "execute_result"
    }
   ],
   "source": [
    "#ANS-23\n",
    "my_dict = {\"name\":\"Alice\",\"age\":30}\n",
    "my_dict[\"name\"]"
   ]
  },
  {
   "cell_type": "code",
   "execution_count": 109,
   "id": "02516181-db63-4be9-9429-353ad96a426b",
   "metadata": {},
   "outputs": [
    {
     "data": {
      "text/plain": [
       "{'name': 'Bob', 'city': 'New York'}"
      ]
     },
     "execution_count": 109,
     "metadata": {},
     "output_type": "execute_result"
    }
   ],
   "source": [
    "#ANS-24\n",
    "d = {\"name\":\"Bob\",\"age\":22,\"city\":\"New York\"}\n",
    "del d[\"age\"]\n",
    "d"
   ]
  },
  {
   "cell_type": "code",
   "execution_count": 115,
   "id": "83601487-2132-4fa5-b1ce-4280a8c66101",
   "metadata": {},
   "outputs": [
    {
     "name": "stdout",
     "output_type": "stream",
     "text": [
      "The key 'city' exists in the dictionary.\n"
     ]
    }
   ],
   "source": [
    "#ANS-25\n",
    "my_dict = {\"name\":\"Alice\",\"city\":\"New york\"}\n",
    "if \"city\" in my_dict:\n",
    "    print(\"The key 'city' exists in the dictionary.\")\n",
    "else:\n",
    "    print(\"The key 'city' does not exists in the dictionary.\")"
   ]
  },
  {
   "cell_type": "code",
   "execution_count": 119,
   "id": "f44224fc-b5f2-492f-a882-745ad844b9a3",
   "metadata": {},
   "outputs": [
    {
     "name": "stdout",
     "output_type": "stream",
     "text": [
      "list: [10, 20, 30]\n",
      "tuple: (20, 40, 60)\n",
      "dictionary: {'name': 'faizan', 'age': 20}\n"
     ]
    }
   ],
   "source": [
    "#ANS-26\n",
    "my_list = [10,20,30]\n",
    "my_tuple = (20,40,60)\n",
    "my_dict = {\"name\":\"faizan\",\"age\":20}\n",
    "print(\"list:\",my_list)\n",
    "print(\"tuple:\",my_tuple)\n",
    "print(\"dictionary:\",my_dict)"
   ]
  },
  {
   "cell_type": "code",
   "execution_count": 181,
   "id": "75b3e5d8-86d2-4481-a685-871d8fe35c62",
   "metadata": {},
   "outputs": [
    {
     "name": "stdout",
     "output_type": "stream",
     "text": [
      "[23, 50, 71, 72, 94]\n"
     ]
    }
   ],
   "source": [
    "#ANS-27\n",
    "import random\n",
    "random_numbers = [random.randint(1,100) for _ in range(5)]\n",
    "random_numbers.sort()\n",
    "print(random_numbers)\n",
    "                  "
   ]
  },
  {
   "cell_type": "code",
   "execution_count": 185,
   "id": "cee74e9a-b9ae-4b4e-8bce-ee971b88e94e",
   "metadata": {},
   "outputs": [
    {
     "name": "stdout",
     "output_type": "stream",
     "text": [
      "cherry\n"
     ]
    }
   ],
   "source": [
    "#ANS-28\n",
    "my_list = [\"apple\",\"banana\",\"date\",\"cherry\"]\n",
    "print(my_list[3])"
   ]
  },
  {
   "cell_type": "code",
   "execution_count": 187,
   "id": "25455a79-8079-4ecb-9292-4dddf688c65d",
   "metadata": {},
   "outputs": [
    {
     "name": "stdout",
     "output_type": "stream",
     "text": [
      "{'name': 'john', 'age': 20, 'city': 'New york', 'job': 'doctor'}\n"
     ]
    }
   ],
   "source": [
    "#ANS-29\n",
    "dict1 = {\"name\":\"john\",\"age\":20}\n",
    "dict2 = {\"city\":\"New york\",\"job\":\"doctor\"}\n",
    "combined_dict = {**dict1,**dict2}\n",
    "print(combined_dict)"
   ]
  },
  {
   "cell_type": "code",
   "execution_count": 189,
   "id": "af57f499-5a85-484b-9553-0b33219d4fe0",
   "metadata": {},
   "outputs": [
    {
     "name": "stdout",
     "output_type": "stream",
     "text": [
      "{'apple', 'orange', 'mango', 'banana'}\n"
     ]
    }
   ],
   "source": [
    "#ANS-30\n",
    "my_list = [\"apple\",\"banana\",\"mango\",\"orange\"]\n",
    "my_set = set(my_list)\n",
    "print(my_set)"
   ]
  },
  {
   "cell_type": "code",
   "execution_count": null,
   "id": "18232cfa-8429-4d92-b15f-b0fc25e24ffe",
   "metadata": {},
   "outputs": [],
   "source": []
  }
 ],
 "metadata": {
  "kernelspec": {
   "display_name": "Python [conda env:base] *",
   "language": "python",
   "name": "conda-base-py"
  },
  "language_info": {
   "codemirror_mode": {
    "name": "ipython",
    "version": 3
   },
   "file_extension": ".py",
   "mimetype": "text/x-python",
   "name": "python",
   "nbconvert_exporter": "python",
   "pygments_lexer": "ipython3",
   "version": "3.12.7"
  }
 },
 "nbformat": 4,
 "nbformat_minor": 5
}
